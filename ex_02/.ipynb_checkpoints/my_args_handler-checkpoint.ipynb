{
 "cells": [
  {
   "cell_type": "code",
   "execution_count": 3,
   "metadata": {},
   "outputs": [
    {
     "name": "stdout",
     "output_type": "stream",
     "text": [
      "Hello,Eric,comment vas ?\n"
     ]
    }
   ],
   "source": [
    "def my_args_handler(*args):\n",
    "    result = \"\"\n",
    "    count = 1\n",
    "    maxi = len(args)\n",
    "\n",
    "    for i in args:\n",
    "        if count < maxi:\n",
    "            result += i + ','\n",
    "        else:\n",
    "            result += i\n",
    "        count += 1\n",
    "\n",
    "    return result\n",
    "\n",
    "print(my_args_handler(\"Hello\", \"Eric\",\"comment vas ?\"))"
   ]
  },
  {
   "cell_type": "code",
   "execution_count": null,
   "metadata": {},
   "outputs": [],
   "source": []
  }
 ],
 "metadata": {
  "kernelspec": {
   "display_name": "Python 3",
   "language": "python",
   "name": "python3"
  },
  "language_info": {
   "codemirror_mode": {
    "name": "ipython",
    "version": 3
   },
   "file_extension": ".py",
   "mimetype": "text/x-python",
   "name": "python",
   "nbconvert_exporter": "python",
   "pygments_lexer": "ipython3",
   "version": "3.7.6"
  }
 },
 "nbformat": 4,
 "nbformat_minor": 4
}
