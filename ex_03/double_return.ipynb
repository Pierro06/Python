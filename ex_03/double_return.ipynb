{
 "cells": [
  {
   "cell_type": "code",
   "execution_count": 4,
   "metadata": {},
   "outputs": [
    {
     "name": "stdout",
     "output_type": "stream",
     "text": [
      "(['hello', 'world'], [0, 1])\n"
     ]
    }
   ],
   "source": [
    "def double_return(dico):\n",
    "    Keys = list(dico.keys())\n",
    "    Value = list(dico.values())\n",
    "    return Keys, Value\n",
    "\n",
    "mon_dico_toto = {\"hello\": 0, \"world\": 1}\n",
    "\n",
    "print(double_return(mon_dico_toto))"
   ]
  },
  {
   "cell_type": "code",
   "execution_count": null,
   "metadata": {},
   "outputs": [],
   "source": []
  }
 ],
 "metadata": {
  "kernelspec": {
   "display_name": "Python 3",
   "language": "python",
   "name": "python3"
  },
  "language_info": {
   "codemirror_mode": {
    "name": "ipython",
    "version": 3
   },
   "file_extension": ".py",
   "mimetype": "text/x-python",
   "name": "python",
   "nbconvert_exporter": "python",
   "pygments_lexer": "ipython3",
   "version": "3.7.6"
  }
 },
 "nbformat": 4,
 "nbformat_minor": 4
}
